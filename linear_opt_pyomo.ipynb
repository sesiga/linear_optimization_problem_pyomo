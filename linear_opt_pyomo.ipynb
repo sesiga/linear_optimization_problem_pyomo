{
 "cells": [
  {
   "cell_type": "markdown",
   "metadata": {},
   "source": [
    "### Introduction and Part a\n",
    "\n",
    "We are going to formulate a linear optimization problem to solve it using *Pyomo* library. The problem is as follows:\n",
    "\n",
    "A car brand has three factories 1, 2 and  3, located at countries 1, 2 and 3 respectively. Each factory produces a different model, let us call them model 1, model 2 and model 3. The three models are sold in countries 1, 2, 3 and 4 (country 4 does not have a factory but does have demand of the models). The aim of the brand is to earn as much money as possible, but taking into account the cost of producing the cars, the price at which they are sold, the demand of the markets and the manufacturing capacity of the factories. The data of the problem are:\n",
    "\n",
    "* **Factory 1**: produces model 1 at a cost of 15000€ each unit. The maximum manufacturing capacity is 1 million cars. Model 1 cars are sold in country 1 at 18000€, in country 2 at 20000€, in country 3 at 21000€ and in country 4 at 22000€.\n",
    "\n",
    "* **Factory 2**: produces model 2 at a cost of 22000€ each unit. The maximum manufacturing capacity is 0.5 million cars. Model 2 cars are sold in country 1 at 30000€, in country 2 at 33000€, in country 3 at 29000€ and in country 4 at 31000€.\n",
    "\n",
    "* **Factory 3**: produces model 3 at a cost of 30000€ each unit. The maximum manufacturing capacity is 10000 cars. Model 3 cars are sold in country 1 at 42000€, in country 2 at 40000€, in country 3 at 41000€ and in country 4 at 44000€.\n",
    "\n",
    "* **Country 1**: has a maximum demand of 600000 cars. The demand of model 3 is as much 2000 cars.\n",
    "\n",
    "* **Country 2**: has a maximum demand of 300000 cars. The demand of model 2 is as much 100000 cars.\n",
    "\n",
    "* **Country 3**: has a maximum demand of 400000 cars.\n",
    "\n",
    "* **Country 4**: has a maximum demand of 300000 cars. The demand of model 3 is as much 3000 cars."
   ]
  },
  {
   "cell_type": "markdown",
   "metadata": {},
   "source": [
    "The formulation of the problem is:\n",
    "\n",
    "$max{ 18000 x_{11} + 20000 x_{12} + 21000 x_{13} + 22000 x_{14} + 30000 x_{21} + 33000 x_{22} + 29000 x_{23} + 31000 x_{24} + 42000 x_{31} + 40000 x_{32} + 41000 x_{33} + 44000 x_{34} - \\left ( x_{11} + x_{12} + x_{13} + x_{14} \\right) 15000 - \\left ( x_{21} + x_{22} + x_{23} + x_{24} \\right) 22000 - \\left ( x_{31} + x_{32} + x_{33} + x_{34} \\right) 30000}$\n",
    "\n",
    "s.t.\n",
    "\n",
    "$x_{11} + x_{12} + x_{13} + x_{14} \\leq 1000000$\n",
    "\n",
    "$x_{21} + x_{22} + x_{33} + x_{34} \\leq 500000$\n",
    "\n",
    "$x_{31} + x_{32} + x_{33} + x_{34} \\leq 10000$\n",
    "\n",
    "$x_{11} + x_{21} + x_{31} \\leq 600000$\n",
    "\n",
    "$x_{12} + x_{22} + x_{32} \\leq 300000$\n",
    "\n",
    "$x_{13} + x_{23} + x_{33} \\leq 400000$\n",
    "\n",
    "$x_{14} + x_{24} + x_{34} \\leq 300000$\n",
    "\n",
    "$x_{31} \\leq 2000$\n",
    "\n",
    "$x_{22} \\leq 100000$\n",
    "\n",
    "$x_{34} \\leq 3000$"
   ]
  },
  {
   "cell_type": "markdown",
   "metadata": {},
   "source": [
    "where $x_{ij}$ states for the number of cars of model $i$ manufactured at factory $i$ to be sent and sold at country $j$. \n",
    "\n",
    "### Part b"
   ]
  },
  {
   "cell_type": "code",
   "execution_count": 1,
   "metadata": {},
   "outputs": [
    {
     "output_type": "stream",
     "name": "stdout",
     "text": "Overwriting max_return.py\n"
    }
   ],
   "source": [
    "%%writefile max_return.py\n",
    "\n",
    "from pyomo.environ import *\n",
    "\n",
    "#abstract model formulation in pyomo\n",
    "model = AbstractModel()\n",
    "\n",
    "#sets of nodes and arcs\n",
    "model.Nodes = Set()\n",
    "model.Arcs = Set(dimen=2)\n",
    "\n",
    "#define for each node the nodes at the end of the arc and viceversa\n",
    "def NodesOut_init(model, node):\n",
    "    retval = []\n",
    "    for (i,j) in model.Arcs:\n",
    "        if i == node:\n",
    "            retval.append(j)\n",
    "    return retval\n",
    "model.NodesOut = Set(model.Nodes, initialize=NodesOut_init)\n",
    "\n",
    "def NodesIn_init(model, node):\n",
    "    retval = []\n",
    "    for (i,j) in model.Arcs:\n",
    "        if j == node:\n",
    "            retval.append(i)\n",
    "    return retval\n",
    "model.NodesIn = Set(model.Nodes, initialize=NodesIn_init)\n",
    "\n",
    "#variables\n",
    "model.Flow = Var(model.Arcs, domain=NonNegativeReals)\n",
    "\n",
    "#parameters of the problem. profit of the arcs, maximum production of the factories,\n",
    "#maximum demand of the countries, maximum flow of some arcs\n",
    "model.FlowProfit = Param(model.Arcs)\n",
    "model.MaxProduction = Param(model.Nodes)\n",
    "model.MaxDemand = Param(model.Nodes)\n",
    "model.FlowMax = Param(model.Arcs)\n",
    "\n",
    "#objective function\n",
    "def Obj_rule(model):\n",
    "    return summation(model.FlowProfit, model.Flow)\n",
    "model.Obj = Objective(rule=Obj_rule, sense=maximize)\n",
    "\n",
    "#maximum production constraint\n",
    "def MaxProductionRule(model, i):\n",
    "    temp = sum( model.Flow[i,j] for j in model.NodesOut[i] )\n",
    "    if type(temp) is int:\n",
    "        return Constraint.Skip\n",
    "    return temp <= model.MaxProduction[i]\n",
    "model.MaxProductionCons = Constraint(model.Nodes, rule=MaxProductionRule)\n",
    "\n",
    "#maximum demand of the countries constraint\n",
    "def MaxDemandRule(model, j):\n",
    "    temp = sum( model.Flow[i,j] for i in model.NodesIn[j] )\n",
    "    if type(temp) is int:\n",
    "        return Constraint.Skip\n",
    "    return temp <= model.MaxDemand[j]\n",
    "model.MaxDemandCons = Constraint(model.Nodes, rule=MaxDemandRule)\n",
    "\n",
    "#maximum flow of some arcs constraint\n",
    "def FlowMaxRule(model, i, j):\n",
    "    return model.Flow[i,j] <= model.FlowMax[i,j]\n",
    "model.FlowMaxCons = Constraint(model.Arcs, rule=FlowMaxRule)"
   ]
  },
  {
   "cell_type": "code",
   "execution_count": 2,
   "metadata": {},
   "outputs": [
    {
     "output_type": "stream",
     "name": "stdout",
     "text": "Overwriting max_return.dat\n"
    }
   ],
   "source": [
    "%%writefile max_return.dat\n",
    "\n",
    "set Nodes := F1 F2 F3 C1 C2 C3 C4;\n",
    "\n",
    "set Arcs :=\n",
    "F1 C1\n",
    "F1 C2\n",
    "F1 C3\n",
    "F1 C4\n",
    "F2 C1\n",
    "F2 C2\n",
    "F2 C3\n",
    "F2 C4\n",
    "F3 C1\n",
    "F3 C2\n",
    "F3 C3\n",
    "F3 C4\n",
    ";\n",
    "\n",
    "param : FlowProfit :=\n",
    "F1 C1 3000\n",
    "F1 C2 5000\n",
    "F1 C3 6000\n",
    "F1 C4 7000\n",
    "F2 C1 8000\n",
    "F2 C2 11000\n",
    "F2 C3 7000\n",
    "F2 C4 9000\n",
    "F3 C1 12000\n",
    "F3 C2 10000\n",
    "F3 C3 11000\n",
    "F3 C4 14000\n",
    ";\n",
    "\n",
    "param : MaxProduction :=\n",
    "F1 1000000\n",
    "F2 500000\n",
    "F3 10000\n",
    "C1 0\n",
    "C2 0\n",
    "C3 0\n",
    "C4 0\n",
    ";\n",
    "\n",
    "param : MaxDemand :=\n",
    "F1 0\n",
    "F2 0\n",
    "F3 0\n",
    "C1 600000\n",
    "C2 300000\n",
    "C3 400000\n",
    "C4 300000\n",
    ";\n",
    "\n",
    "param : FlowMax :=\n",
    "F1 C1 1000000\n",
    "F1 C2 1000000\n",
    "F1 C3 1000000\n",
    "F1 C4 1000000\n",
    "F2 C1 500000\n",
    "F2 C2 100000\n",
    "F2 C3 500000\n",
    "F2 C4 500000\n",
    "F3 C1 2000\n",
    "F3 C2 10000\n",
    "F3 C3 10000\n",
    "F3 C4 3000\n",
    ";"
   ]
  },
  {
   "cell_type": "code",
   "execution_count": 3,
   "metadata": {},
   "outputs": [
    {
     "output_type": "stream",
     "name": "stdout",
     "text": "[    0.00] Setting up Pyomo environment\n[    0.00] Applying Pyomo preprocessing actions\n[    0.82] Creating model\n[    0.85] Applying solver\n[    0.91] Processing results\n    Number of solutions: 1\n    Solution Information\n      Gap: 0.0\n      Status: feasible\n      Function Value: 10194000000.0\n    Solver results file: results.yml\n\n==========================================================\nSolution Summary\n==========================================================\n\nModel unknown\n\n  Variables:\n    Flow : Size=12, Index=Arcs\n        Key          : Lower : Value    : Upper : Fixed : Stale : Domain\n        ('F1', 'C1') :     0 : 108000.0 :  None : False : False : NonNegativeReals\n        ('F1', 'C2') :     0 : 200000.0 :  None : False : False : NonNegativeReals\n        ('F1', 'C3') :     0 : 395000.0 :  None : False : False : NonNegativeReals\n        ('F1', 'C4') :     0 : 297000.0 :  None : False : False : NonNegativeReals\n        ('F2', 'C1') :     0 : 400000.0 :  None : False : False : NonNegativeReals\n        ('F2', 'C2') :     0 : 100000.0 :  None : False : False : NonNegativeReals\n        ('F2', 'C3') :     0 :      0.0 :  None : False : False : NonNegativeReals\n        ('F2', 'C4') :     0 :      0.0 :  None : False : False : NonNegativeReals\n        ('F3', 'C1') :     0 :   2000.0 :  None : False : False : NonNegativeReals\n        ('F3', 'C2') :     0 :      0.0 :  None : False : False : NonNegativeReals\n        ('F3', 'C3') :     0 :   5000.0 :  None : False : False : NonNegativeReals\n        ('F3', 'C4') :     0 :   3000.0 :  None : False : False : NonNegativeReals\n\n  Objectives:\n    Obj : Size=1, Index=None, Active=True\n        Key  : Active : Value\n        None :   True : 10194000000.0\n\n  Constraints:\n    MaxProductionCons : Size=3\n        Key : Lower : Body      : Upper\n         F1 :  None : 1000000.0 : 1000000.0\n         F2 :  None :  500000.0 :  500000.0\n         F3 :  None :   10000.0 :   10000.0\n    MaxDemandCons : Size=4\n        Key : Lower : Body     : Upper\n         C1 :  None : 510000.0 : 600000.0\n         C2 :  None : 300000.0 : 300000.0\n         C3 :  None : 400000.0 : 400000.0\n         C4 :  None : 300000.0 : 300000.0\n    FlowMaxCons : Size=12\n        Key          : Lower : Body     : Upper\n        ('F1', 'C1') :  None : 108000.0 : 1000000.0\n        ('F1', 'C2') :  None : 200000.0 : 1000000.0\n        ('F1', 'C3') :  None : 395000.0 : 1000000.0\n        ('F1', 'C4') :  None : 297000.0 : 1000000.0\n        ('F2', 'C1') :  None : 400000.0 :  500000.0\n        ('F2', 'C2') :  None : 100000.0 :  100000.0\n        ('F2', 'C3') :  None :      0.0 :  500000.0\n        ('F2', 'C4') :  None :      0.0 :  500000.0\n        ('F3', 'C1') :  None :   2000.0 :    2000.0\n        ('F3', 'C2') :  None :      0.0 :   10000.0\n        ('F3', 'C3') :  None :   5000.0 :   10000.0\n        ('F3', 'C4') :  None :   3000.0 :    3000.0\n\n[    0.91] Applying Pyomo postprocessing actions\n[    0.91] Pyomo Finished\nerrorcode: 0\nretval: instance: <pyomo.core.base.PyomoModel.ConcreteModel object at 0x0000015261AD43F0>\nlocal:\n    time_initial_import: 0.822364330291748\n    usermodel: <module 'max_return' from 'c:\\\\Users\\\\sesig\\\\Documents\\\\GitHub\\\\master_ds_q4_advance_numerical_methods_assignment1\\\\max_return.py'>\noptions: <pyutilib.misc.config.ConfigDict object at 0x000001526183F9A8>\nresults: {'Problem': [{'Name': 'unknown', 'Lower bound': 10194000000.0, 'Upper bound': 10194000000.0, 'Number of objectives': 1, 'Number of constraints': 20, 'Number of variables': 13, 'Number of nonzeros': 37, 'Sense': 'maximize'}], 'Solver': [{'Status': 'ok', 'Termination condition': 'optimal', 'Statistics': {'Branch and bound': {'Number of bounded subproblems': 0, 'Number of created subproblems': 0}}, 'Error rc': 0, 'Time': 0.03498101234436035}], 'Solution': [OrderedDict([('number of solutions', 1), ('number of solutions displayed', 1)]), {'Gap': 0.0, 'Status': 'feasible', 'Message': None, 'Problem': {}, 'Objective': {'Obj': {'Value': 10194000000.0}}, 'Variable': {'Flow[F1,C1]': {'Value': 108000.0}, 'Flow[F1,C2]': {'Value': 200000.0}, 'Flow[F1,C3]': {'Value': 395000.0}, 'Flow[F1,C4]': {'Value': 297000.0}, 'Flow[F2,C1]': {'Value': 400000.0}, 'Flow[F2,C2]': {'Value': 100000.0}, 'Flow[F2,C3]': {'Value': 0.0}, 'Flow[F2,C4]': {'Value': 0.0}, 'Flow[F3,C1]': {'Value': 2000.0}, 'Flow[F3,C2]': {'Value': 0.0}, 'Flow[F3,C3]': {'Value': 5000.0}, 'Flow[F3,C4]': {'Value': 3000.0}}, 'Constraint': {}}]}\n"
    }
   ],
   "source": [
    "!pyomo solve  max_return.py max_return.dat --solver=glpk --summary "
   ]
  },
  {
   "cell_type": "markdown",
   "metadata": {},
   "source": [
    "From the summary we get that the problem has a unique optimal solution that has been reached. The value of the objective function is 10.194 million of €. The number of cars sent and sold from the factories to all the countries are:\n",
    "\n",
    "* **From factory 1 to country 1**: 108000\n",
    "* **From factory 1 to country 2**: 200000\n",
    "* **From factory 1 to country 3**: 395000\n",
    "* **From factory 1 to country 4**: 297000\n",
    "* **From factory 2 to country 1**: 400000\n",
    "* **From factory 2 to country 2**: 100000\n",
    "* **From factory 2 to country 3**: 0\n",
    "* **From factory 2 to country 4**: 0\n",
    "* **From factory 3 to country 1**: 2000\n",
    "* **From factory 3 to country 2**: 0\n",
    "* **From factory 3 to country 3**: 5000\n",
    "* **From factory 3 to country 4**: 3000\n",
    "\n",
    "Model 3 produced in factory 3 has the greatest profits. The number of cars sent from factory 3 to countries 1 and 4 are limited by the constraint to 2000 and 3000 respectively, so both constraints are active. Since they are the arcs that produce the greatest profit, it is normal that get the maximum number of cars sent through these arcs. The rest of the cars produced in factory 3 are sent to country 3, because the profit is 1000 € greater compared to being sent to country 2 (which lacks of model 3 cars).\n",
    "Model 2 produced in factory 2 only is sent only to countries 1 and 2. Country 3 has the lowest profit and although country 4 has the second greatest profit, we have to take into account the profit from model 1 cars. That is why we whould only sell model 2 cars in countries 1 and 2. 100000 model 2 cars are sent from factory 2 to country 2, so again we have an active constraint. Country 2 produces the greatest profit of all the countries for model 2 cars, so it is reasonable to sent there the maximum number allowed. Finally, model 1 cars produced in factory 1 are distributed to all the countries with the goal of getting the greatest return.\n",
    "\n",
    "Looking at the number of cars produced in each factory, we have that factory 3 manufactures 10000 cars, which meets the maximum production constraint of factory 3. Factory 2 manufactures 500000 cars meeting also the maximum production constraint of factory 2. These is becasue models 3 and 2 have greater return than model 1. Also, factory 1 produces 1 million model 1 cars meeting the constraint of maximum production. If we look back at the demand, adding all the countries we have a maximum demand of 1.6 million and a maximum production of 1.51 million cars, so given that all the model return profits in all the countries, then the three factories are going to manufacture as many cars as possible.\n",
    "\n",
    "Finally, looking at the countries, we have that countries 2, 3, and 4 meet the constraint of maximum demand because when the three models are combine, these countries return a greater profit than country 1. Country 1 has 90000 users who did not buy a car because the factories did not have capability to increase the production. It is actually the difference of 1.6 million minus 1.51 million explained in the previous paragraph."
   ]
  },
  {
   "cell_type": "markdown",
   "metadata": {},
   "source": [
    "### Part c\n",
    "\n",
    "Let us suppose now that each factory can only send its cars the countries that creates a profit for each car greater than the average of all the countries, or to the countries with a lower profit. For example, in our case we have that model 1 yields a profit of 3000 € per car in country 1, 5000 € per car in country 2, 6000 € per car in country 3 and 7000 € per car in country 4. The mean of the profits is 5250. Thus, model 1 can only be sent to countries 3 and 4 that have a greater profit per car sold, or to countries 1 and 2 that have a lower profit, but model 1 can not be sold in country sets {1,3}, {2,4}, {1,2,3}, etc. \n",
    "\n",
    "In the implementation we need to include a new set of binary variables that allow (or do not allow) to send cars from factory x to country y. Also, the last constraint that contains the maximum flow rule is modified in order to satisfy the new restriction."
   ]
  },
  {
   "cell_type": "code",
   "execution_count": 4,
   "metadata": {},
   "outputs": [
    {
     "output_type": "stream",
     "name": "stdout",
     "text": "Overwriting max_return2.py\n"
    }
   ],
   "source": [
    "%%writefile max_return2.py\n",
    "\n",
    "from pyomo.environ import *\n",
    "\n",
    "#abstract model formulation in pyomo\n",
    "model = AbstractModel()\n",
    "\n",
    "#sets of nodes and arcs\n",
    "model.Nodes = Set()\n",
    "model.Arcs = Set(dimen=2)\n",
    "\n",
    "#define for each node the nodes at the end of the arc and viceversa\n",
    "def NodesOut_init(model, node):\n",
    "    retval = []\n",
    "    for (i,j) in model.Arcs:\n",
    "        if i == node:\n",
    "            retval.append(j)\n",
    "    return retval\n",
    "model.NodesOut = Set(model.Nodes, initialize=NodesOut_init)\n",
    "\n",
    "def NodesIn_init(model, node):\n",
    "    retval = []\n",
    "    for (i,j) in model.Arcs:\n",
    "        if j == node:\n",
    "            retval.append(i)\n",
    "    return retval\n",
    "model.NodesIn = Set(model.Nodes, initialize=NodesIn_init)\n",
    "\n",
    "#variables\n",
    "model.Flow = Var(model.Arcs, domain=NonNegativeReals)\n",
    "\n",
    "#binary variables\n",
    "model.FlowRestriction = Var(model.Nodes, domain=Binary)\n",
    "\n",
    "#parameters of the problem. profit of the arcs, maximum production of the factories,\n",
    "#maximum demand of the countries, maximum flow of some arcs\n",
    "model.FlowProfit = Param(model.Arcs)\n",
    "model.MaxProduction = Param(model.Nodes)\n",
    "model.MaxDemand = Param(model.Nodes)\n",
    "model.FlowMax = Param(model.Arcs)\n",
    "\n",
    "#objective function\n",
    "def Obj_rule(model):\n",
    "    return summation(model.FlowProfit, model.Flow)\n",
    "model.Obj = Objective(rule=Obj_rule, sense=maximize)\n",
    "\n",
    "#maximum production constraint\n",
    "def MaxProductionRule(model, i):\n",
    "    temp = sum( model.Flow[i,j] for j in model.NodesOut[i] )\n",
    "    if type(temp) is int:\n",
    "        return Constraint.Skip\n",
    "    return temp <= model.MaxProduction[i]\n",
    "model.MaxProductionCons = Constraint(model.Nodes, rule=MaxProductionRule)\n",
    "\n",
    "#maximum demand of the countries constraint\n",
    "def MaxDemandRule(model, j):\n",
    "    temp = sum( model.Flow[i,j] for i in model.NodesIn[j] )\n",
    "    if type(temp) is int:\n",
    "        return Constraint.Skip\n",
    "    return temp <= model.MaxDemand[j]\n",
    "model.MaxDemandCons = Constraint(model.Nodes, rule=MaxDemandRule)\n",
    "\n",
    "def FlowMaxRule(model, i, j):\n",
    "    profit_arc_ij = model.FlowProfit[i,j]\n",
    "    profit_mean = 0\n",
    "    count = 0\n",
    "    for k in model.NodesOut[i]:\n",
    "        profit_mean += model.FlowProfit[i,k]\n",
    "        count += 1\n",
    "    profit_mean /= count\n",
    "    if profit_arc_ij < profit_mean:\n",
    "        return model.Flow[i,j] <= model.FlowMax[i,j] * model.FlowRestriction[i]\n",
    "    else:\n",
    "        return model.Flow[i,j] <= model.FlowMax[i,j] * (1 - model.FlowRestriction[i])\n",
    "model.FlowMaxCons = Constraint(model.Arcs, rule=FlowMaxRule)"
   ]
  },
  {
   "cell_type": "code",
   "execution_count": 5,
   "metadata": {},
   "outputs": [
    {
     "output_type": "stream",
     "name": "stdout",
     "text": "[    0.00] Setting up Pyomo environment\n[    0.00] Applying Pyomo preprocessing actions\n[    0.82] Creating model\n[    0.83] Applying solver\n[    0.90] Processing results\n    Number of solutions: 1\n    Solution Information\n      Gap: 0.0\n      Status: optimal\n      Function Value: 8600000000.0\n    Solver results file: results.yml\n\n==========================================================\nSolution Summary\n==========================================================\n\nModel unknown\n\n  Variables:\n    Flow : Size=12, Index=Arcs\n        Key          : Lower : Value                : Upper : Fixed : Stale : Domain\n        ('F1', 'C1') :     0 :                  0.0 :  None : False : False : NonNegativeReals\n        ('F1', 'C2') :     0 :                  0.0 :  None : False : False : NonNegativeReals\n        ('F1', 'C3') :     0 :             400000.0 :  None : False : False : NonNegativeReals\n        ('F1', 'C4') :     0 :             300000.0 :  None : False : False : NonNegativeReals\n        ('F2', 'C1') :     0 :             500000.0 :  None : False : False : NonNegativeReals\n        ('F2', 'C2') :     0 :                  0.0 :  None : False : False : NonNegativeReals\n        ('F2', 'C3') :     0 : 5.82076609134674e-11 :  None : False : False : NonNegativeReals\n        ('F2', 'C4') :     0 :                  0.0 :  None : False : False : NonNegativeReals\n        ('F3', 'C1') :     0 :                  0.0 :  None : False : False : NonNegativeReals\n        ('F3', 'C2') :     0 :              10000.0 :  None : False : False : NonNegativeReals\n        ('F3', 'C3') :     0 :                  0.0 :  None : False : False : NonNegativeReals\n        ('F3', 'C4') :     0 :                  0.0 :  None : False : False : NonNegativeReals\n    FlowRestriction : Size=7, Index=Nodes\n        Key : Lower : Value : Upper : Fixed : Stale : Domain\n         C1 :     0 :  None :     1 : False :  True : Binary\n         C2 :     0 :  None :     1 : False :  True : Binary\n         C3 :     0 :  None :     1 : False :  True : Binary\n         C4 :     0 :  None :     1 : False :  True : Binary\n         F1 :     0 :   0.0 :     1 : False : False : Binary\n         F2 :     0 :   1.0 :     1 : False : False : Binary\n         F3 :     0 :   1.0 :     1 : False : False : Binary\n\n  Objectives:\n    Obj : Size=1, Index=None, Active=True\n        Key  : Active : Value\n        None :   True : 8600000000.0\n\n  Constraints:\n    MaxProductionCons : Size=3\n        Key : Lower : Body               : Upper\n         F1 :  None :           700000.0 : 1000000.0\n         F2 :  None : 500000.00000000006 :  500000.0\n         F3 :  None :            10000.0 :   10000.0\n    MaxDemandCons : Size=4\n        Key : Lower : Body               : Upper\n         C1 :  None :           500000.0 : 600000.0\n         C2 :  None :            10000.0 : 300000.0\n         C3 :  None : 400000.00000000006 : 400000.0\n         C4 :  None :           300000.0 : 300000.0\n    FlowMaxCons : Size=12\n        Key          : Lower : Body                : Upper\n        ('F1', 'C1') :  None :                 0.0 :   0.0\n        ('F1', 'C2') :  None :                 0.0 :   0.0\n        ('F1', 'C3') :  None :           -600000.0 :   0.0\n        ('F1', 'C4') :  None :           -700000.0 :   0.0\n        ('F2', 'C1') :  None :                 0.0 :   0.0\n        ('F2', 'C2') :  None :                 0.0 :   0.0\n        ('F2', 'C3') :  None : -499999.99999999994 :   0.0\n        ('F2', 'C4') :  None :                 0.0 :   0.0\n        ('F3', 'C1') :  None :                 0.0 :   0.0\n        ('F3', 'C2') :  None :                 0.0 :   0.0\n        ('F3', 'C3') :  None :            -10000.0 :   0.0\n        ('F3', 'C4') :  None :                 0.0 :   0.0\n\n[    0.90] Applying Pyomo postprocessing actions\n[    0.90] Pyomo Finished\nerrorcode: 0\nretval: instance: <pyomo.core.base.PyomoModel.ConcreteModel object at 0x0000025FE1AB44C8>\nlocal:\n    time_initial_import: 0.8160417079925537\n    usermodel: <module 'max_return2' from 'c:\\\\Users\\\\sesig\\\\Documents\\\\GitHub\\\\master_ds_q4_advance_numerical_methods_assignment1\\\\max_return2.py'>\noptions: <pyutilib.misc.config.ConfigDict object at 0x0000025FE181A9A8>\nresults: {'Problem': [{'Name': 'unknown', 'Lower bound': 8600000000.0, 'Upper bound': 8600000000.0, 'Number of objectives': 1, 'Number of constraints': 20, 'Number of variables': 16, 'Number of nonzeros': 49, 'Sense': 'maximize'}], 'Solver': [{'Status': 'ok', 'Termination condition': 'optimal', 'Statistics': {'Branch and bound': {'Number of bounded subproblems': '3', 'Number of created subproblems': '3'}}, 'Error rc': 0, 'Time': 0.04048752784729004}], 'Solution': [OrderedDict([('number of solutions', 1), ('number of solutions displayed', 1)]), {'Gap': 0.0, 'Status': 'optimal', 'Message': None, 'Problem': {}, 'Objective': {'Obj': {'Value': 8600000000.0}}, 'Variable': {'Flow[F1,C1]': {'Value': 0.0}, 'Flow[F1,C2]': {'Value': 0.0}, 'Flow[F1,C3]': {'Value': 400000.0}, 'Flow[F1,C4]': {'Value': 300000.0}, 'Flow[F2,C1]': {'Value': 500000.0}, 'Flow[F2,C2]': {'Value': 0.0}, 'Flow[F2,C3]': {'Value': 5.82076609134674e-11}, 'Flow[F2,C4]': {'Value': 0.0}, 'Flow[F3,C1]': {'Value': 0.0}, 'Flow[F3,C2]': {'Value': 10000.0}, 'Flow[F3,C3]': {'Value': 0.0}, 'Flow[F3,C4]': {'Value': 0.0}, 'FlowRestriction[F1]': {'Value': 0.0}, 'FlowRestriction[F2]': {'Value': 1.0}, 'FlowRestriction[F3]': {'Value': 1.0}}, 'Constraint': {}}]}\n"
    }
   ],
   "source": [
    "!pyomo solve  max_return2.py max_return.dat --solver=glpk --summary "
   ]
  },
  {
   "cell_type": "markdown",
   "metadata": {},
   "source": [
    "The summary of the solution shows again that the optimal solution is unique and has been reached. Now the profit is 8.600 million of € which is around a 15% less than the one with no restrictions. Now there are no cars sent from factory 1 to countries 1 and 2 that are the countries with a profit per car lower than the average for all the countries. The binary variable has a value of 0, indicating that the first condition of the code is applied to those countries. We have 400.000 model 1 cars sent to country 3 which is the greatest demand of the country, and 300.000 cars sent to country 4 meeting again the maximum demand of the country. Thus, countries 3 and 4 will not have model 2 and 3 cars. \n",
    "\n",
    "Given that, all model 2 cars produced are sent to country 1. They can be sent either to countries 1 and 3 ot to countries 2 and 4. Since there is no longer demand in country 3 all cars are sent to country 1. The value of the binary variable is 1 because this time cars are sent to the group of countries 1 and 3 which has a profit lower than the average. Thus, country 1 receives 500.000 cars (all the production capabilities of model 2) but there is still a demand of 100.000 cars.\n",
    "\n",
    "Finally, model 3 cars can be sent to countries 2 and 3 or to countries or to countries 1 and 4. It turns out that again is more profitable to sell them in countries 2 and 3, being the binary variable 1. Since country 3 has no demand because of model 1 cars, all model 3 cars are sent to country 2 (10.000 cars).\n",
    "\n",
    "Regarding the factories, factory 1 manufactures 700.000 cars (the capability is 1 million), factory 2 manufactures 500.000 meeting its maximum production and factory 3 manufactures 10.000 cars meeting again its maximum production.\n",
    "\n",
    "Regarding the countries, countries 3 and 4 meet the maximum demand with 400.000 cars and 300.000 cars respectively. However, only 500.000 cars are sent to country 1 when the demand is of 600.0000 and only 10.000 cars are sent to country 2 having a demand of 300.000 cars. Thus, we have a country 2 demand is still very large."
   ]
  },
  {
   "cell_type": "markdown",
   "metadata": {},
   "source": [
    "### Part d\n",
    "\n",
    "In this part we are going to add uncertainty in the demand of the countries. The cost of manufacturing the cars and the pricce at which they are sold in the countries are held constant. However, we are going to create a random demand from a multinormal distribution. The mean values of the distributions are the ones used previously, and the standard deviations are 0.01 of the mean values (1%). The correlation is set to 0.8, since it would be expected that if global demand increases (or decreases), then local demand increases (or decreases). We are going to use 1000 scenerios. \n",
    "The first stage decision variables are the number of cars each factory has to manufacture, and the second stage decision variables are the number of cars that has to be sent from the factories to each country.\n",
    "The formulation of the problem is:"
   ]
  },
  {
   "cell_type": "code",
   "execution_count": 6,
   "metadata": {},
   "outputs": [
    {
     "output_type": "stream",
     "name": "stdout",
     "text": "Overwriting max_return3.dat\n"
    }
   ],
   "source": [
    "%%writefile max_return3.dat\n",
    "\n",
    "set Nodes := F1 F2 F3 C1 C2 C3 C4;\n",
    "\n",
    "set Arcs :=\n",
    "F1 C1\n",
    "F1 C2\n",
    "F1 C3\n",
    "F1 C4\n",
    "F2 C1\n",
    "F2 C2\n",
    "F2 C3\n",
    "F2 C4\n",
    "F3 C1\n",
    "F3 C2\n",
    "F3 C3\n",
    "F3 C4\n",
    ";\n",
    "\n",
    "param : FlowProfit :=\n",
    "F1 C1 3000\n",
    "F1 C2 5000\n",
    "F1 C3 6000\n",
    "F1 C4 7000\n",
    "F2 C1 8000\n",
    "F2 C2 11000\n",
    "F2 C3 7000\n",
    "F2 C4 9000\n",
    "F3 C1 12000\n",
    "F3 C2 10000\n",
    "F3 C3 11000\n",
    "F3 C4 14000\n",
    ";\n",
    "\n",
    "param : MaxProduction :=\n",
    "F1 1000000\n",
    "F2 500000\n",
    "F3 10000\n",
    "C1 0\n",
    "C2 0\n",
    "C3 0\n",
    "C4 0\n",
    ";\n",
    "\n",
    "param : FlowMax :=\n",
    "F1 C1 1000000\n",
    "F1 C2 1000000\n",
    "F1 C3 1000000\n",
    "F1 C4 1000000\n",
    "F2 C1 500000\n",
    "F2 C2 100000\n",
    "F2 C3 500000\n",
    "F2 C4 500000\n",
    "F3 C1 2000\n",
    "F3 C2 10000\n",
    "F3 C3 10000\n",
    "F3 C4 3000\n",
    ";"
   ]
  },
  {
   "cell_type": "code",
   "execution_count": 7,
   "metadata": {},
   "outputs": [
    {
     "output_type": "stream",
     "name": "stdout",
     "text": "Flow : Size=0, Index=Flow_index\n    Not constructed\n"
    }
   ],
   "source": [
    "import numpy as np\n",
    "from pyomo.environ import *\n",
    "opt = SolverFactory(\"glpk\")\n",
    "from pyomo.opt import SolverFactory\n",
    "\n",
    "#for reproducibility\n",
    "np.random.seed(1)\n",
    "\n",
    "#number of samples\n",
    "n_sc=1000\n",
    "\n",
    "#generate n_sc random samples of the demand of the four countries\n",
    "means = np.array([600000, 300000, 400000, 300000])\n",
    "vr = 0.01\n",
    "stds = np.array([means[0] * vr, means[1] * vr, means[2] * vr, means[3] * vr])\n",
    "corr = 0.8\n",
    "covs = [[stds[0]**2, stds[0]*stds[1]*corr, stds[0]*stds[2]*corr, stds[0]*stds[3]*corr],\n",
    "        [stds[0]*stds[1]*corr, stds[1]**2, stds[1]*stds[2]*corr, stds[1]*stds[3]*corr],\n",
    "        [stds[0]*stds[2]*corr, stds[1]*stds[2]*corr, stds[2]**2, stds[2]*stds[3]*corr],\n",
    "        [stds[0]*stds[3]*corr, stds[3]*stds[1]*corr, stds[2]*stds[3]*corr, stds[3]**2]]\n",
    "MaxDemand = np.random.multivariate_normal(means, covs, n_sc)\n",
    "\n",
    "#abstract model formulation in pyomo\n",
    "model = AbstractModel()\n",
    "\n",
    "#number of scenerios\n",
    "model.w = RangeSet(1,n_sc)\n",
    "\n",
    "#sets of nodes and arcs\n",
    "model.Nodes = Set()\n",
    "model.Arcs = Set(dimen=2)\n",
    "\n",
    "#define for each node the nodes at the end of the arc and viceversa\n",
    "def NodesOut_init(model, node):\n",
    "    retval = []\n",
    "    for (i,j) in model.Arcs:\n",
    "        if i == node:\n",
    "            retval.append(j)\n",
    "    return retval\n",
    "model.NodesOut = Set(model.Nodes, initialize=NodesOut_init)\n",
    "\n",
    "def NodesIn_init(model, node):\n",
    "    retval = []\n",
    "    for (i,j) in model.Arcs:\n",
    "        if j == node:\n",
    "            retval.append(i)\n",
    "    return retval\n",
    "model.NodesIn = Set(model.Nodes, initialize=NodesIn_init)\n",
    "\n",
    "nodesin = ['F1', 'F2', 'F3']\n",
    "nodesout = ['C1', 'C2', 'C3', 'C4']\n",
    "#variables\n",
    "model.Flow = Var(model.w, model.Arcs, domain=NonNegativeReals)\n",
    "\n",
    "#parameters of the problem. profit of the arcs, maximum production of the factories,\n",
    "#maximum demand of the countries, maximum flow of some arcs\n",
    "model.FlowProfit = Param(model.Arcs)\n",
    "model.MaxProduction = Param(model.Nodes)\n",
    "model.FlowMax = Param(model.Arcs)\n",
    "\n",
    "model.Flow.pprint()\n",
    "\n",
    "def Obj_rule(model):\n",
    "    of = 0\n",
    "    nodesin = ['F1', 'F2', 'F3']\n",
    "    nodesout = ['C1', 'C2', 'C3', 'C4']\n",
    "    for w in model.w:\n",
    "        for i in nodesin:\n",
    "            for j in nodesout:\n",
    "                of = of + model.FlowProfit[i,j] * model.Flow[w,i,j]\n",
    "    return(of)\n",
    "model.Obj = Objective(rule=Obj_rule, sense=maximize)\n",
    "\n",
    "#maximum production constraint\n",
    "def MaxProductionRule(model, w, i):\n",
    "    temp = sum( model.Flow[w,i,j] for j in model.NodesOut[i] )\n",
    "    if type(temp) is int:\n",
    "        return Constraint.Skip\n",
    "    return temp <= model.MaxProduction[i]\n",
    "model.MaxProductionCons = Constraint(model.w, model.Nodes, rule=MaxProductionRule)\n",
    "\n",
    "#maximum demand of the countries constraint\n",
    "def MaxDemandRule(model, w, j):\n",
    "    temp = sum( model.Flow[w,i,j] for i in model.NodesIn[j] )\n",
    "    if type(temp) is int:\n",
    "        return Constraint.Skip\n",
    "    if j == 'C1':\n",
    "        return temp <= MaxDemand[w-1,0]\n",
    "    elif j == 'C2':\n",
    "        return temp <= MaxDemand[w-1,1]\n",
    "    elif j == 'C3':\n",
    "        return temp <= MaxDemand[w-1,2]\n",
    "    elif j == 'C4':\n",
    "        return temp <= MaxDemand[w-1,3]\n",
    "model.MaxDemandCons = Constraint(model.w, model.Nodes, rule=MaxDemandRule)\n",
    "\n",
    "#maximum flow of some arcs constraint\n",
    "def FlowMaxRule(model, w, i, j):\n",
    "    return model.Flow[w,i,j] <= model.FlowMax[i,j]\n",
    "model.FlowMaxCons = Constraint(model.w, model.Arcs, rule=FlowMaxRule)"
   ]
  },
  {
   "cell_type": "code",
   "execution_count": 8,
   "metadata": {},
   "outputs": [],
   "source": [
    "instance = model.create_instance(r'C:\\Users\\sesig\\Documents\\GitHub\\master_ds_q4_advance_numerical_methods_assignment1\\max_return3.dat')\n",
    "results = opt.solve(instance)\n",
    "instance_of = instance.Obj()"
   ]
  },
  {
   "cell_type": "code",
   "execution_count": 9,
   "metadata": {},
   "outputs": [],
   "source": [
    "profit = np.ones(n_sc)\n",
    "nodesin = ['F1', 'F2', 'F3']\n",
    "nodesout = ['C1', 'C2', 'C3', 'C4']\n",
    "for w in range(1,n_sc+1):\n",
    "    for i in nodesin:\n",
    "        for j in nodesout:\n",
    "            profit[w-1] += instance.FlowProfit[i,j] * instance.Flow[w,i,j].value"
   ]
  },
  {
   "cell_type": "markdown",
   "metadata": {},
   "source": [
    "Once we have run the previous chunks, we can plot a histogram with the expected return of each scenerio. All the profits are almost between 10.000 and 10.275 million of € with mean profit of 10.194 million of €. The mean profit is almost identical to the optimal value obtained in the first part, as it is expected since we have created the demand with a multinormal distribution with mean value the value of the demand of the first part. With these results, we can see how the uncertainty can affect the results of the company at the end of the year."
   ]
  },
  {
   "cell_type": "code",
   "execution_count": 11,
   "metadata": {},
   "outputs": [
    {
     "output_type": "display_data",
     "data": {
      "text/plain": "<Figure size 432x288 with 1 Axes>",
      "image/png": "[encoded data removed]"
     },
     "metadata": {
      "needs_background": "light"
     }
    },
    {
     "output_type": "stream",
     "name": "stdout",
     "text": "mean return 10194180693.064117\n"
    }
   ],
   "source": [
    "import matplotlib.pyplot as plt\n",
    "plt.hist(profit, 20)\n",
    "plt.show()\n",
    "print('mean return', np.mean(profit))"
   ]
  },
  {
   "cell_type": "markdown",
   "metadata": {},
   "source": [
    "Finally, the EVPI in € is:"
   ]
  },
  {
   "cell_type": "code",
   "execution_count": 13,
   "metadata": {},
   "outputs": [
    {
     "output_type": "stream",
     "name": "stdout",
     "text": "180693.06411743164\n"
    }
   ],
   "source": [
    "evpi = -10194e6 + np.mean(profit)\n",
    "print(evpi)"
   ]
  },
  {
   "cell_type": "markdown",
   "metadata": {},
   "source": [
    "And the VSS in € is:"
   ]
  },
  {
   "cell_type": "code",
   "execution_count": 17,
   "metadata": {},
   "outputs": [
    {
     "output_type": "stream",
     "name": "stdout",
     "text": "180692.06412124634\n"
    }
   ],
   "source": [
    "vss = instance_of/n_sc - 10194e6\n",
    "print(vss)"
   ]
  }
 ],
 "metadata": {
  "language_info": {
   "codemirror_mode": {
    "name": "ipython",
    "version": 3
   },
   "file_extension": ".py",
   "mimetype": "text/x-python",
   "name": "python",
   "nbconvert_exporter": "python",
   "pygments_lexer": "ipython3",
   "version": "3.7.0-final"
  },
  "orig_nbformat": 2,
  "kernelspec": {
   "name": "python3",
   "display_name": "Python 3"
  }
 },
 "nbformat": 4,
 "nbformat_minor": 2
}